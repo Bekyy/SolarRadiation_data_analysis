{
 "cells": [
  {
   "cell_type": "code",
   "execution_count": 1,
   "metadata": {},
   "outputs": [],
   "source": [
    "import numpy as np\n",
    "import matplotlib.pyplot as plt\n",
    "import seaborn as sns\n",
    "import pandas as pd"
   ]
  },
  {
   "cell_type": "code",
   "execution_count": 3,
   "metadata": {},
   "outputs": [],
   "source": [
    "sierraleonedata = pd.read_csv(\"C:/Users/AII/Desktop/SolarRadiation_data_analysis/data/sierraleone-bumbuna.csv\")"
   ]
  },
  {
   "cell_type": "code",
   "execution_count": 4,
   "metadata": {},
   "outputs": [
    {
     "data": {
      "text/html": [
       "<div>\n",
       "<style scoped>\n",
       "    .dataframe tbody tr th:only-of-type {\n",
       "        vertical-align: middle;\n",
       "    }\n",
       "\n",
       "    .dataframe tbody tr th {\n",
       "        vertical-align: top;\n",
       "    }\n",
       "\n",
       "    .dataframe thead th {\n",
       "        text-align: right;\n",
       "    }\n",
       "</style>\n",
       "<table border=\"1\" class=\"dataframe\">\n",
       "  <thead>\n",
       "    <tr style=\"text-align: right;\">\n",
       "      <th></th>\n",
       "      <th>Timestamp</th>\n",
       "      <th>GHI</th>\n",
       "      <th>DNI</th>\n",
       "      <th>DHI</th>\n",
       "      <th>ModA</th>\n",
       "      <th>ModB</th>\n",
       "      <th>Tamb</th>\n",
       "      <th>RH</th>\n",
       "      <th>WS</th>\n",
       "      <th>WSgust</th>\n",
       "      <th>WSstdev</th>\n",
       "      <th>WD</th>\n",
       "      <th>WDstdev</th>\n",
       "      <th>BP</th>\n",
       "      <th>Cleaning</th>\n",
       "      <th>Precipitation</th>\n",
       "      <th>TModA</th>\n",
       "      <th>TModB</th>\n",
       "      <th>Comments</th>\n",
       "    </tr>\n",
       "  </thead>\n",
       "  <tbody>\n",
       "    <tr>\n",
       "      <th>0</th>\n",
       "      <td>2021-10-30 00:01</td>\n",
       "      <td>-0.7</td>\n",
       "      <td>-0.1</td>\n",
       "      <td>-0.8</td>\n",
       "      <td>0.0</td>\n",
       "      <td>0.0</td>\n",
       "      <td>21.9</td>\n",
       "      <td>99.1</td>\n",
       "      <td>0.0</td>\n",
       "      <td>0.0</td>\n",
       "      <td>0.0</td>\n",
       "      <td>0.0</td>\n",
       "      <td>0.0</td>\n",
       "      <td>1002</td>\n",
       "      <td>0</td>\n",
       "      <td>0.0</td>\n",
       "      <td>22.3</td>\n",
       "      <td>22.6</td>\n",
       "      <td>NaN</td>\n",
       "    </tr>\n",
       "    <tr>\n",
       "      <th>1</th>\n",
       "      <td>2021-10-30 00:02</td>\n",
       "      <td>-0.7</td>\n",
       "      <td>-0.1</td>\n",
       "      <td>-0.8</td>\n",
       "      <td>0.0</td>\n",
       "      <td>0.0</td>\n",
       "      <td>21.9</td>\n",
       "      <td>99.2</td>\n",
       "      <td>0.0</td>\n",
       "      <td>0.0</td>\n",
       "      <td>0.0</td>\n",
       "      <td>0.0</td>\n",
       "      <td>0.0</td>\n",
       "      <td>1002</td>\n",
       "      <td>0</td>\n",
       "      <td>0.0</td>\n",
       "      <td>22.3</td>\n",
       "      <td>22.6</td>\n",
       "      <td>NaN</td>\n",
       "    </tr>\n",
       "    <tr>\n",
       "      <th>2</th>\n",
       "      <td>2021-10-30 00:03</td>\n",
       "      <td>-0.7</td>\n",
       "      <td>-0.1</td>\n",
       "      <td>-0.8</td>\n",
       "      <td>0.0</td>\n",
       "      <td>0.0</td>\n",
       "      <td>21.9</td>\n",
       "      <td>99.2</td>\n",
       "      <td>0.0</td>\n",
       "      <td>0.0</td>\n",
       "      <td>0.0</td>\n",
       "      <td>0.0</td>\n",
       "      <td>0.0</td>\n",
       "      <td>1002</td>\n",
       "      <td>0</td>\n",
       "      <td>0.0</td>\n",
       "      <td>22.3</td>\n",
       "      <td>22.6</td>\n",
       "      <td>NaN</td>\n",
       "    </tr>\n",
       "    <tr>\n",
       "      <th>3</th>\n",
       "      <td>2021-10-30 00:04</td>\n",
       "      <td>-0.7</td>\n",
       "      <td>0.0</td>\n",
       "      <td>-0.8</td>\n",
       "      <td>0.0</td>\n",
       "      <td>0.0</td>\n",
       "      <td>21.9</td>\n",
       "      <td>99.3</td>\n",
       "      <td>0.0</td>\n",
       "      <td>0.0</td>\n",
       "      <td>0.0</td>\n",
       "      <td>0.0</td>\n",
       "      <td>0.0</td>\n",
       "      <td>1002</td>\n",
       "      <td>0</td>\n",
       "      <td>0.1</td>\n",
       "      <td>22.3</td>\n",
       "      <td>22.6</td>\n",
       "      <td>NaN</td>\n",
       "    </tr>\n",
       "    <tr>\n",
       "      <th>4</th>\n",
       "      <td>2021-10-30 00:05</td>\n",
       "      <td>-0.7</td>\n",
       "      <td>-0.1</td>\n",
       "      <td>-0.8</td>\n",
       "      <td>0.0</td>\n",
       "      <td>0.0</td>\n",
       "      <td>21.9</td>\n",
       "      <td>99.3</td>\n",
       "      <td>0.0</td>\n",
       "      <td>0.0</td>\n",
       "      <td>0.0</td>\n",
       "      <td>0.0</td>\n",
       "      <td>0.0</td>\n",
       "      <td>1002</td>\n",
       "      <td>0</td>\n",
       "      <td>0.0</td>\n",
       "      <td>22.3</td>\n",
       "      <td>22.6</td>\n",
       "      <td>NaN</td>\n",
       "    </tr>\n",
       "  </tbody>\n",
       "</table>\n",
       "</div>"
      ],
      "text/plain": [
       "          Timestamp  GHI  DNI  DHI  ModA  ModB  Tamb    RH   WS  WSgust  \\\n",
       "0  2021-10-30 00:01 -0.7 -0.1 -0.8   0.0   0.0  21.9  99.1  0.0     0.0   \n",
       "1  2021-10-30 00:02 -0.7 -0.1 -0.8   0.0   0.0  21.9  99.2  0.0     0.0   \n",
       "2  2021-10-30 00:03 -0.7 -0.1 -0.8   0.0   0.0  21.9  99.2  0.0     0.0   \n",
       "3  2021-10-30 00:04 -0.7  0.0 -0.8   0.0   0.0  21.9  99.3  0.0     0.0   \n",
       "4  2021-10-30 00:05 -0.7 -0.1 -0.8   0.0   0.0  21.9  99.3  0.0     0.0   \n",
       "\n",
       "   WSstdev   WD  WDstdev    BP  Cleaning  Precipitation  TModA  TModB  \\\n",
       "0      0.0  0.0      0.0  1002         0            0.0   22.3   22.6   \n",
       "1      0.0  0.0      0.0  1002         0            0.0   22.3   22.6   \n",
       "2      0.0  0.0      0.0  1002         0            0.0   22.3   22.6   \n",
       "3      0.0  0.0      0.0  1002         0            0.1   22.3   22.6   \n",
       "4      0.0  0.0      0.0  1002         0            0.0   22.3   22.6   \n",
       "\n",
       "   Comments  \n",
       "0       NaN  \n",
       "1       NaN  \n",
       "2       NaN  \n",
       "3       NaN  \n",
       "4       NaN  "
      ]
     },
     "execution_count": 4,
     "metadata": {},
     "output_type": "execute_result"
    }
   ],
   "source": [
    "sierraleonedata.head()"
   ]
  },
  {
   "cell_type": "code",
   "execution_count": 5,
   "metadata": {},
   "outputs": [
    {
     "data": {
      "text/html": [
       "<div>\n",
       "<style scoped>\n",
       "    .dataframe tbody tr th:only-of-type {\n",
       "        vertical-align: middle;\n",
       "    }\n",
       "\n",
       "    .dataframe tbody tr th {\n",
       "        vertical-align: top;\n",
       "    }\n",
       "\n",
       "    .dataframe thead th {\n",
       "        text-align: right;\n",
       "    }\n",
       "</style>\n",
       "<table border=\"1\" class=\"dataframe\">\n",
       "  <thead>\n",
       "    <tr style=\"text-align: right;\">\n",
       "      <th></th>\n",
       "      <th>Timestamp</th>\n",
       "      <th>GHI</th>\n",
       "      <th>DNI</th>\n",
       "      <th>DHI</th>\n",
       "      <th>ModA</th>\n",
       "      <th>ModB</th>\n",
       "      <th>Tamb</th>\n",
       "      <th>RH</th>\n",
       "      <th>WS</th>\n",
       "      <th>WSgust</th>\n",
       "      <th>WSstdev</th>\n",
       "      <th>WD</th>\n",
       "      <th>WDstdev</th>\n",
       "      <th>BP</th>\n",
       "      <th>Cleaning</th>\n",
       "      <th>Precipitation</th>\n",
       "      <th>TModA</th>\n",
       "      <th>TModB</th>\n",
       "      <th>Comments</th>\n",
       "    </tr>\n",
       "  </thead>\n",
       "  <tbody>\n",
       "    <tr>\n",
       "      <th>0</th>\n",
       "      <td>2021-10-30 00:01:00</td>\n",
       "      <td>-0.7</td>\n",
       "      <td>-0.1</td>\n",
       "      <td>-0.8</td>\n",
       "      <td>0.0</td>\n",
       "      <td>0.0</td>\n",
       "      <td>21.9</td>\n",
       "      <td>99.1</td>\n",
       "      <td>0.0</td>\n",
       "      <td>0.0</td>\n",
       "      <td>0.0</td>\n",
       "      <td>0.0</td>\n",
       "      <td>0.0</td>\n",
       "      <td>1002</td>\n",
       "      <td>0</td>\n",
       "      <td>0.0</td>\n",
       "      <td>22.3</td>\n",
       "      <td>22.6</td>\n",
       "      <td>NaN</td>\n",
       "    </tr>\n",
       "    <tr>\n",
       "      <th>1</th>\n",
       "      <td>2021-10-30 00:02:00</td>\n",
       "      <td>-0.7</td>\n",
       "      <td>-0.1</td>\n",
       "      <td>-0.8</td>\n",
       "      <td>0.0</td>\n",
       "      <td>0.0</td>\n",
       "      <td>21.9</td>\n",
       "      <td>99.2</td>\n",
       "      <td>0.0</td>\n",
       "      <td>0.0</td>\n",
       "      <td>0.0</td>\n",
       "      <td>0.0</td>\n",
       "      <td>0.0</td>\n",
       "      <td>1002</td>\n",
       "      <td>0</td>\n",
       "      <td>0.0</td>\n",
       "      <td>22.3</td>\n",
       "      <td>22.6</td>\n",
       "      <td>NaN</td>\n",
       "    </tr>\n",
       "    <tr>\n",
       "      <th>2</th>\n",
       "      <td>2021-10-30 00:03:00</td>\n",
       "      <td>-0.7</td>\n",
       "      <td>-0.1</td>\n",
       "      <td>-0.8</td>\n",
       "      <td>0.0</td>\n",
       "      <td>0.0</td>\n",
       "      <td>21.9</td>\n",
       "      <td>99.2</td>\n",
       "      <td>0.0</td>\n",
       "      <td>0.0</td>\n",
       "      <td>0.0</td>\n",
       "      <td>0.0</td>\n",
       "      <td>0.0</td>\n",
       "      <td>1002</td>\n",
       "      <td>0</td>\n",
       "      <td>0.0</td>\n",
       "      <td>22.3</td>\n",
       "      <td>22.6</td>\n",
       "      <td>NaN</td>\n",
       "    </tr>\n",
       "    <tr>\n",
       "      <th>3</th>\n",
       "      <td>2021-10-30 00:04:00</td>\n",
       "      <td>-0.7</td>\n",
       "      <td>0.0</td>\n",
       "      <td>-0.8</td>\n",
       "      <td>0.0</td>\n",
       "      <td>0.0</td>\n",
       "      <td>21.9</td>\n",
       "      <td>99.3</td>\n",
       "      <td>0.0</td>\n",
       "      <td>0.0</td>\n",
       "      <td>0.0</td>\n",
       "      <td>0.0</td>\n",
       "      <td>0.0</td>\n",
       "      <td>1002</td>\n",
       "      <td>0</td>\n",
       "      <td>0.1</td>\n",
       "      <td>22.3</td>\n",
       "      <td>22.6</td>\n",
       "      <td>NaN</td>\n",
       "    </tr>\n",
       "    <tr>\n",
       "      <th>4</th>\n",
       "      <td>2021-10-30 00:05:00</td>\n",
       "      <td>-0.7</td>\n",
       "      <td>-0.1</td>\n",
       "      <td>-0.8</td>\n",
       "      <td>0.0</td>\n",
       "      <td>0.0</td>\n",
       "      <td>21.9</td>\n",
       "      <td>99.3</td>\n",
       "      <td>0.0</td>\n",
       "      <td>0.0</td>\n",
       "      <td>0.0</td>\n",
       "      <td>0.0</td>\n",
       "      <td>0.0</td>\n",
       "      <td>1002</td>\n",
       "      <td>0</td>\n",
       "      <td>0.0</td>\n",
       "      <td>22.3</td>\n",
       "      <td>22.6</td>\n",
       "      <td>NaN</td>\n",
       "    </tr>\n",
       "  </tbody>\n",
       "</table>\n",
       "</div>"
      ],
      "text/plain": [
       "            Timestamp  GHI  DNI  DHI  ModA  ModB  Tamb    RH   WS  WSgust  \\\n",
       "0 2021-10-30 00:01:00 -0.7 -0.1 -0.8   0.0   0.0  21.9  99.1  0.0     0.0   \n",
       "1 2021-10-30 00:02:00 -0.7 -0.1 -0.8   0.0   0.0  21.9  99.2  0.0     0.0   \n",
       "2 2021-10-30 00:03:00 -0.7 -0.1 -0.8   0.0   0.0  21.9  99.2  0.0     0.0   \n",
       "3 2021-10-30 00:04:00 -0.7  0.0 -0.8   0.0   0.0  21.9  99.3  0.0     0.0   \n",
       "4 2021-10-30 00:05:00 -0.7 -0.1 -0.8   0.0   0.0  21.9  99.3  0.0     0.0   \n",
       "\n",
       "   WSstdev   WD  WDstdev    BP  Cleaning  Precipitation  TModA  TModB  \\\n",
       "0      0.0  0.0      0.0  1002         0            0.0   22.3   22.6   \n",
       "1      0.0  0.0      0.0  1002         0            0.0   22.3   22.6   \n",
       "2      0.0  0.0      0.0  1002         0            0.0   22.3   22.6   \n",
       "3      0.0  0.0      0.0  1002         0            0.1   22.3   22.6   \n",
       "4      0.0  0.0      0.0  1002         0            0.0   22.3   22.6   \n",
       "\n",
       "   Comments  \n",
       "0       NaN  \n",
       "1       NaN  \n",
       "2       NaN  \n",
       "3       NaN  \n",
       "4       NaN  "
      ]
     },
     "execution_count": 5,
     "metadata": {},
     "output_type": "execute_result"
    }
   ],
   "source": [
    "sierraleonedata['Timestamp'] = (pd.to_datetime(sierraleonedata['Timestamp'])) #.dt.date\n",
    "sierraleonedata.head()"
   ]
  },
  {
   "cell_type": "markdown",
   "metadata": {},
   "source": [
    "**Summary Statistics Analysis**"
   ]
  },
  {
   "cell_type": "code",
   "execution_count": null,
   "metadata": {},
   "outputs": [],
   "source": [
    "sierraleonedata.columns"
   ]
  },
  {
   "cell_type": "code",
   "execution_count": null,
   "metadata": {},
   "outputs": [],
   "source": [
    "sierraleonedata.shape"
   ]
  },
  {
   "cell_type": "code",
   "execution_count": null,
   "metadata": {},
   "outputs": [],
   "source": [
    "sierraleonedata.set_index('Timestamp', inplace=True)\n",
    "sierraleonedata.head()"
   ]
  },
  {
   "cell_type": "code",
   "execution_count": null,
   "metadata": {},
   "outputs": [],
   "source": [
    "sierraleonedata.info()"
   ]
  },
  {
   "cell_type": "code",
   "execution_count": null,
   "metadata": {},
   "outputs": [],
   "source": [
    "sierraleonedata.describe()"
   ]
  },
  {
   "cell_type": "markdown",
   "metadata": {},
   "source": [
    "**Data Quality Check**"
   ]
  },
  {
   "cell_type": "code",
   "execution_count": null,
   "metadata": {},
   "outputs": [],
   "source": [
    "# Check for missing values in specific columns\n",
    "missing_values = sierraleonedata.isnull().sum()\n",
    "print(missing_values)"
   ]
  },
  {
   "cell_type": "code",
   "execution_count": null,
   "metadata": {},
   "outputs": [],
   "source": [
    "# Check for negative values in all numeric columns\n",
    "negative_values = sierraleonedata.select_dtypes(include=[float, int]) < 0\n",
    "\n",
    "# Display rows with negative values\n",
    "incorrect_entries = sierraleonedata[negative_values.any(axis=1)]\n",
    "print(incorrect_entries)"
   ]
  },
  {
   "cell_type": "code",
   "execution_count": null,
   "metadata": {},
   "outputs": [],
   "source": [
    "def check_incorrect_entries(df):\n",
    "    \"\"\"\n",
    "    This function checks for incorrect entries in a DataFrame.\n",
    "    It considers negative values in numeric columns as incorrect entries.\n",
    "    Returns a dictionary with column names as keys and the count of incorrect entries as values.\n",
    "    \"\"\"\n",
    "    incorrect_entries_count = {}\n",
    "\n",
    "    # Check for incorrect entries in numeric columns (e.g., negative values)\n",
    "    for col in df.select_dtypes(include=[float, int]).columns:\n",
    "        incorrect_count = df[df[col] < 0].shape[0]\n",
    "        if incorrect_count > 0:\n",
    "            incorrect_entries_count[col] = incorrect_count\n",
    "\n",
    "    # Add other checks if needed (e.g., for non-numeric columns)\n",
    "    # Example: Check for unexpected values in categorical columns\n",
    "    # for col in df.select_dtypes(include=[object]).columns:\n",
    "    #     unexpected_values = df[~df[col].isin(expected_categories)]\n",
    "    #     incorrect_count = unexpected_values.shape[0]\n",
    "    #     if incorrect_count > 0:\n",
    "    #         incorrect_entries_count[col] = incorrect_count\n",
    "\n",
    "    return incorrect_entries_count\n",
    "\n",
    "incorrect_entries = check_incorrect_entries(sierraleonedata)\n",
    "print(incorrect_entries)"
   ]
  },
  {
   "cell_type": "markdown",
   "metadata": {},
   "source": [
    "**Plot Time Series Data**"
   ]
  },
  {
   "cell_type": "code",
   "execution_count": null,
   "metadata": {},
   "outputs": [],
   "source": [
    "# Plotting the time series data\n",
    "plt.figure(figsize=(10, 5))\n",
    "\n",
    "# Line plot for GHI, DNI, DHI, and Tamb\n",
    "plt.plot(sierraleonedata.index, sierraleonedata['GHI'], label='GHI', color='orange')\n",
    "plt.plot(sierraleonedata.index, sierraleonedata['DNI'], label='DNI', color='blue')\n",
    "plt.plot(sierraleonedata.index, sierraleonedata['DHI'], label='DHI', color='green')\n",
    "plt.plot(sierraleonedata.index, sierraleonedata['Tamb'], label='Tamb', color='red')\n",
    "\n",
    "plt.title('Time Series of GHI, DNI, DHI, and Tamb')\n",
    "plt.xlabel('Date')\n",
    "plt.ylabel('Values')\n",
    "plt.legend()\n",
    "plt.show()"
   ]
  },
  {
   "cell_type": "code",
   "execution_count": null,
   "metadata": {},
   "outputs": [],
   "source": [
    "# Separate positive and negative values\n",
    "positive_values = sierraleonedata[['GHI', 'DNI', 'DHI', 'Tamb']].clip(lower=0)\n",
    "negative_values = sierraleonedata[['GHI', 'DNI', 'DHI', 'Tamb']].clip(upper=0)\n",
    "\n",
    "# Plot positive values\n",
    "positive_values.plot(kind='area', figsize=(10, 4), alpha=0.5, stacked=False)\n",
    "\n",
    "plt.title('Time Series Area Plot of Positive GHI, DNI, DHI, and Tamb')\n",
    "plt.xlabel('Date')\n",
    "plt.ylabel('Values')\n",
    "plt.legend(loc='upper left')\n",
    "plt.show()\n",
    "\n",
    "# Plot negative values separately if needed\n",
    "negative_values.plot(kind='area', figsize=(10, 4), alpha=0.5, stacked=False)\n",
    "\n",
    "plt.title('Time Series Area Plot of Negative GHI, DNI, DHI, and Tamb')\n",
    "plt.xlabel('Date')\n",
    "plt.ylabel('Values')\n",
    "plt.legend(loc='upper left')\n",
    "plt.show()"
   ]
  },
  {
   "cell_type": "code",
   "execution_count": null,
   "metadata": {},
   "outputs": [],
   "source": [
    "daily_data = sierraleonedata.resample('D').mean()\n",
    "# Plotting the daily resampled data\n",
    "plt.figure(figsize=(12, 3))\n",
    "\n",
    "# Plot daily mean for GHI, DNI, DHI, and Tamb\n",
    "plt.plot(daily_data.index, daily_data['GHI'], label='GHI', color='orange')\n",
    "plt.plot(daily_data.index, daily_data['DNI'], label='DNI', color='blue')\n",
    "plt.plot(daily_data.index, daily_data['DHI'], label='DHI', color='green')\n",
    "plt.plot(daily_data.index, daily_data['Tamb'], label='Tamb', color='red')\n",
    "\n",
    "plt.title('Daily Mean of GHI, DNI, DHI, and Tamb')\n",
    "plt.xlabel('Date')\n",
    "plt.ylabel('Daily Mean Values')\n",
    "plt.legend(loc='upper left')\n",
    "plt.show()"
   ]
  },
  {
   "cell_type": "code",
   "execution_count": null,
   "metadata": {},
   "outputs": [],
   "source": [
    "monthly_data = sierraleonedata.resample('M').mean()\n",
    "# Plotting the daily resampled data\n",
    "plt.figure(figsize=(12, 3))\n",
    "\n",
    "# Plot daily mean for GHI, DNI, DHI, and Tamb\n",
    "plt.plot(monthly_data.index, monthly_data['GHI'], label='GHI', color='orange')\n",
    "plt.plot(monthly_data.index, monthly_data['DNI'], label='DNI', color='blue')\n",
    "plt.plot(monthly_data.index, monthly_data['DHI'], label='DHI', color='green')\n",
    "plt.plot(monthly_data.index, monthly_data['Tamb'], label='Tamb', color='red')\n",
    "\n",
    "plt.title('Monthly Mean of GHI, DNI, DHI, and Tamb')\n",
    "plt.xlabel('Date')\n",
    "plt.ylabel('Monthly Mean Values')\n",
    "plt.legend(loc='upper left')\n",
    "plt.show()"
   ]
  },
  {
   "cell_type": "markdown",
   "metadata": {},
   "source": [
    "**Correlation Analysis**"
   ]
  },
  {
   "cell_type": "code",
   "execution_count": null,
   "metadata": {},
   "outputs": [],
   "source": [
    "# Select relevant columns\n",
    "columns_of_interest = ['GHI', 'DNI', 'DHI', 'TModA', 'TModB', 'WS', 'WSgust', 'WD']\n",
    "\n",
    "# Calculate the correlation matrix\n",
    "corr_matrix = sierraleonedata[columns_of_interest].corr()"
   ]
  },
  {
   "cell_type": "markdown",
   "metadata": {},
   "source": [
    "**Heatmap** \n",
    "* The heatmap provides a visual summary of correlations between variables, making it easy to identify strong positive or negative correlations.\n",
    "* Look for strong correlations (values close to 1 or -1) between the solar radiation components and temperature measures. Positive correlations are indicated by warm colors, while negative correlations are shown by cool colors."
   ]
  },
  {
   "cell_type": "markdown",
   "metadata": {
    "notebookRunGroups": {
     "groupValue": "2"
    }
   },
   "source": [
    "**Pair Plot** \n",
    "* The pair plot shows scatter plots for each pair of variables and histograms for individual variables. This is useful for identifying relationships and distributions.\n",
    "* Investigate the scatter plots and histograms to observe the relationships between solar radiation components and temperature. Pay attention to linear relationships, clusters, and any outliers."
   ]
  },
  {
   "cell_type": "markdown",
   "metadata": {},
   "source": [
    "**Scatter Matrix** \n",
    "* The scatter matrix provides a grid of scatter plots for each combination of wind conditions and solar irradiance. This helps in exploring potential correlations and dependencies between these variables.\n",
    "* Analyze the scatter plots to explore the relationship between wind conditions (WS, WSgust, WD) and solar irradiance (GHI, DNI, DHI). Look for patterns or trends that might indicate how wind conditions influence solar irradiance."
   ]
  },
  {
   "cell_type": "code",
   "execution_count": null,
   "metadata": {},
   "outputs": [],
   "source": [
    "# Plotting the heatmap\n",
    "plt.figure(figsize=(10, 8))\n",
    "sns.heatmap(corr_matrix, annot=True, cmap='coolwarm', linewidths=0.5, center=0)\n",
    "plt.title('Correlation Heatmap')\n",
    "plt.show()\n"
   ]
  },
  {
   "cell_type": "code",
   "execution_count": null,
   "metadata": {},
   "outputs": [],
   "source": [
    "# Pair plot for solar radiation components and temperature\n",
    "sns.pairplot(sierraleonedata[['GHI', 'DNI', 'DHI', 'TModA', 'TModB']])\n",
    "plt.suptitle('Pair Plot for Solar Radiation Components and Temperature', y=1.02)\n",
    "plt.show()\n"
   ]
  },
  {
   "cell_type": "code",
   "execution_count": null,
   "metadata": {},
   "outputs": [],
   "source": [
    "# Scatter matrix for wind conditions (WS, WSgust, WD) and solar irradiance (GHI, DNI, DHI)\n",
    "sns.pairplot(sierraleonedata[['WS', 'WSgust', 'WD', 'GHI', 'DNI', 'DHI']], diag_kind='kde')\n",
    "plt.suptitle('Scatter Matrix for Wind Conditions and Solar Irradiance', y=1.02)\n",
    "plt.show()\n"
   ]
  },
  {
   "cell_type": "markdown",
   "metadata": {},
   "source": [
    "**Wind Analysis**"
   ]
  },
  {
   "cell_type": "markdown",
   "metadata": {},
   "source": [
    "* **Scatter Polar Plot**: This plot allows you to observe how wind speeds vary with direction. High wind speeds will be indicated by points farther from the center and also any predominant wind directions where higher speeds are frequent."
   ]
  },
  {
   "cell_type": "markdown",
   "metadata": {},
   "source": [
    "* **Wind Rose:** The wind rose reveals the most common wind directions and the range of wind speeds associated with those directions. It can help to identify trends such as prevailing winds or significant wind events that affect your study area."
   ]
  },
  {
   "cell_type": "markdown",
   "metadata": {},
   "source": []
  },
  {
   "cell_type": "code",
   "execution_count": null,
   "metadata": {},
   "outputs": [],
   "source": [
    "# Extract wind speed and direction\n",
    "wind_speed = sierraleonedata['WS']\n",
    "wind_direction = sierraleonedata['WD']\n",
    "\n",
    "# Convert wind direction from degrees to radians\n",
    "wind_direction_radians = np.deg2rad(wind_direction)"
   ]
  },
  {
   "cell_type": "code",
   "execution_count": null,
   "metadata": {},
   "outputs": [],
   "source": [
    "plt.figure(figsize=(8, 8))\n",
    "ax = plt.subplot(111, projection='polar')\n",
    "\n",
    "# Create a scatter plot on the polar axis\n",
    "sc = ax.scatter(wind_direction_radians, wind_speed, c=wind_speed, cmap='viridis', alpha=0.75)\n",
    "\n",
    "# Add a color bar\n",
    "plt.colorbar(sc, label='Wind Speed (m/s)')\n",
    "\n",
    "ax.set_theta_zero_location('N')  # Set the zero degree location to North\n",
    "ax.set_theta_direction(-1)  # Set the direction of angles to be clockwise\n",
    "\n",
    "plt.title('Wind Speed and Direction Distribution')\n",
    "plt.show()"
   ]
  },
  {
   "cell_type": "code",
   "execution_count": null,
   "metadata": {},
   "outputs": [],
   "source": [
    "plt.figure(figsize=(8, 8))\n",
    "ax = plt.subplot(111, projection='polar')\n",
    "\n",
    "# Create bins for wind direction\n",
    "num_bins = 16  # Number of direction bins\n",
    "bins = np.linspace(0, 2 * np.pi, num_bins + 1)\n",
    "\n",
    "# Compute the histogram\n",
    "hist, bin_edges = np.histogram(wind_direction_radians, bins=bins, weights=wind_speed)\n",
    "\n",
    "# Create a bar plot on the polar axis\n",
    "bars = ax.bar(bin_edges[:-1], hist, width=(2 * np.pi) / num_bins, color='skyblue', edgecolor='black')\n",
    "\n",
    "ax.set_theta_zero_location('N')  # Set the zero degree location to North\n",
    "ax.set_theta_direction(-1)  # Set the direction of angles to be clockwise\n",
    "\n",
    "plt.title('Wind Rose: Distribution of Wind Speed and Direction')\n",
    "plt.show()"
   ]
  },
  {
   "cell_type": "code",
   "execution_count": null,
   "metadata": {},
   "outputs": [],
   "source": []
  }
 ],
 "metadata": {
  "kernelspec": {
   "display_name": "Python 3",
   "language": "python",
   "name": "python3"
  },
  "language_info": {
   "codemirror_mode": {
    "name": "ipython",
    "version": 3
   },
   "file_extension": ".py",
   "mimetype": "text/x-python",
   "name": "python",
   "nbconvert_exporter": "python",
   "pygments_lexer": "ipython3",
   "version": "3.10.11"
  }
 },
 "nbformat": 4,
 "nbformat_minor": 2
}
